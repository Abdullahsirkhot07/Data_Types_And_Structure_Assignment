{
  "nbformat": 4,
  "nbformat_minor": 0,
  "metadata": {
    "colab": {
      "provenance": [],
      "authorship_tag": "ABX9TyNZ9qjFdt4f3+rAatbhlikh",
      "include_colab_link": true
    },
    "kernelspec": {
      "name": "python3",
      "display_name": "Python 3"
    },
    "language_info": {
      "name": "python"
    }
  },
  "cells": [
    {
      "cell_type": "markdown",
      "metadata": {
        "id": "view-in-github",
        "colab_type": "text"
      },
      "source": [
        "<a href=\"https://colab.research.google.com/github/AbhishekJr99/Data_Types_And_Structure_Assignment/blob/main/Untitled1.ipynb\" target=\"_parent\"><img src=\"https://colab.research.google.com/assets/colab-badge.svg\" alt=\"Open In Colab\"/></a>"
      ]
    },
    {
      "cell_type": "code",
      "execution_count": null,
      "metadata": {
        "id": "uqm5RTq5nDU4"
      },
      "outputs": [],
      "source": []
    },
    {
      "cell_type": "markdown",
      "source": [],
      "metadata": {
        "id": "PH-lgkhPT1pH"
      }
    },
    {
      "cell_type": "markdown",
      "source": [
        "1)What are data structures, and why are they important?\n",
        "\n",
        "Answer:- Data structures are ways to store and organize data. They help us work with data easily and make programs faster."
      ],
      "metadata": {
        "id": "DhWtifZ2T-SI"
      }
    },
    {
      "cell_type": "markdown",
      "source": [
        "2)Difference between mutable and immutable data types with examples?\n",
        "\n",
        "Answer:- Mutable means we can change the value (like lists).\n",
        "         Immutable means we cannot change the value (like strings or tuples).\n",
        "         Example: list = [1, 2] (mutable), tuple = (1, 2) (immutable)"
      ],
      "metadata": {
        "id": "V_HOyNo4UAWp"
      }
    },
    {
      "cell_type": "markdown",
      "source": [
        "3)Lists vs Tuples in Python?\n",
        "\n",
        "Answer:- Lists can change (mutable), tuples cannot (immutable).\n",
        "         Lists use [], tuples use ()."
      ],
      "metadata": {
        "id": "YTF6uHXkUKlD"
      }
    },
    {
      "cell_type": "markdown",
      "source": [
        "4)How dictionaries store data?\n",
        "\n",
        "Answer:- They store data in key-value pairs. Each key points to a value."
      ],
      "metadata": {
        "id": "ZxsPx6jfUTsl"
      }
    },
    {
      "cell_type": "markdown",
      "source": [
        "5)Why use a set instead of a list?\n",
        "\n",
        "Answer:-Sets don’t allow duplicates and are faster for checking if an item is there"
      ],
      "metadata": {
        "id": "LogAhtmeUZXP"
      }
    },
    {
      "cell_type": "markdown",
      "source": [
        "6)What is a string in Python, and how is it different from a list?\n",
        "answer:-A string is a group of characters. It is immutable. A list can hold different data types and is mutable."
      ],
      "metadata": {
        "id": "hpTlOd_3Ukx5"
      }
    },
    {
      "cell_type": "markdown",
      "source": [
        "\n",
        "\n",
        "\n",
        "7)How do tuples ensure data integrity? Answer:-Since tuples can’t be changed, the data stays safe and fixed.\n",
        "\n",
        "8)How do tuples ensure data integrity? answer:- Since tuples can’t be changed, the data stays safe and fixed.\n",
        "\n",
        "9)Can lists have different data types? answer:-Yes, lists can have numbers, strings, etc., all in one list.\n",
        "\n",
        "10)Why are strings immutable in Python? answer:- So that they don’t change by mistake. This also helps make the program faster and safer.\n",
        "\n",
        "11)Advantages of dictionaries over lists? answer:- Dictionaries are better for looking up values using a key, which is faster than searching in a list.\n",
        "\n",
        "12)When to use a tuple instead of a list: answer:-When you don’t want the data to change, like fixed coordinates\n",
        "\n",
        "13)How do sets handle duplicates? answer:-Sets automatically remove duplicates. Only unique items are stored.\n",
        "\n",
        "14)How “in” works in lists vs dictionaries? answer:-In a list, it checks for the value. In a dictionary, it checks for the key.\n",
        "\n",
        "15)Can you modify elements in a tuple? answer:-No, tuples cannot be changed. That’s why they are immutable\n",
        "\n",
        "16)What is a nested dictionary? Example? answer:-A dictionary inside another dictionary. Example: {\"person\": {\"name\": \"John\", \"age\": 30}}\n",
        "\n",
        "17)Time complexity of accessing dictionary elements? answer:-It’s usually O(1), which means very fast.\n",
        "\n",
        "18)When are lists better than dictionaries? answer:-When you just need to store items in order and don’t need key-value pairs.\n",
        "\n",
        "19)Why are dictionaries unordered? answer:-They are stored using hashes, not by position. So you can’t rely on the order.\n",
        "\n",
        "20)List vs dictionary for data retrieval? answer:-Lists use index numbers to get values. Dictionaries use keys to get values, which is faster.\n",
        "\n",
        "pratical question and answer\n",
        "\n",
        " #1)Write a code to create a string with your name and print it?\n",
        "\n",
        "print(\"Abhishek Shukla\")\n",
        "\n",
        "\n",
        "#2)Write a code to find the length of the string \"Hello World\"?\n",
        "print(len(\"hello world\"))\n",
        "11\n",
        "\n",
        "\n",
        "#3)Write a code to slice the first 3 characters from the string \"Python Programming\"?\n",
        "print(\"Python Programming\"[0:3])\n",
        "Pyt\n",
        "\n",
        "\n",
        "#4)Write a code to convert the string \"hello\" to uppercase?\n",
        "print(\"hello\".upper())\n",
        "HELLO\n",
        "\n",
        "\n",
        " #5)Write a code to replace the word \"apple\" with \"orange\" in the string \"I like apple\n",
        "sentence = \"I like apple\"\n",
        "print(sentence.replace(\"apple\", \"orange\"))\n",
        "'i like orange'\n",
        "\n",
        "\n",
        "#6)Write a code to create a list with numbers 1 to 5 and print it?\n",
        "number=[1, 2, 3, 4, 5]\n",
        "print(number)\n",
        "[1, 2, 3, 4, 5]\n",
        "\n",
        "\n",
        "#7)Write a code to append the number 10 to the list [1, 2, 3, 4]?\n",
        "num_list=[1,2,3,4]\n",
        "num_list.append(10)\n",
        "print(num_list)\n",
        "[1, 2, 3, 4, 10]\n",
        "\n",
        "\n",
        "#8)Write a code to remove the number 3 from the list [1, 2, 3, 4, 5]?\n",
        "l=[1,2,3,4,5]\n",
        "l.remove(3)\n",
        "print(l)\n",
        "[1, 2, 4, 5]\n",
        "\n",
        "\n",
        "#9)Write a code to access the second element in the list ['a', 'b', 'c', 'd']?\n",
        "l=[\"a\",\"b\",\"c\",\"d\"]\n",
        "print(l[1])\n",
        "b\n",
        "\n",
        "\n",
        "#10)Write a code to reverse the list [10, 20, 30, 40, 50]?\n",
        "number=[10,20,30,40,50]\n",
        "number.reverse()\n",
        "print(number)\n",
        "[50, 40, 30, 20, 10]\n",
        "\n",
        "\n",
        "#11)Write a code to create a tuple with the elements 100, 200, 300 and print it?\n",
        "t=(100,200,300)\n",
        "print(t)\n",
        "(100, 200, 300)\n",
        "\n",
        "\n",
        "#12)Write a code to access the second-to-last element of the tuple ('red', 'green', 'blue', 'yellow')?\n",
        "t=('red','green','yellow','blue')\n",
        "print(t[-2])\n",
        "yellow\n",
        "\n",
        "\n",
        " #13)Write a code to find the minimum number in the tuple (10, 20, 5, 15)?\n",
        "t=(10,20,5,15)\n",
        "print(min(t))\n",
        "5\n",
        "\n",
        "\n",
        "#14)Write a code to find the index of the element \"cat\" in the tuple ('dog', 'cat', 'rabbit')?\n",
        "animal=(\"dog\",\"cat\",\"rabbit\")\n",
        "print(animal.index(\"cat\"))\n",
        "1\n",
        "\n",
        "\n",
        "#15)Write a code to create a tuple containing three different fruits and check if \"kiwi\" is in it.?\n",
        "fruit=(\"apple\",\"mango\",\"watermelon\")\n",
        "print(\"kiwi\"in fruit)\n",
        "False\n",
        "\n",
        "\n",
        "#16)Write a code to create a set with the elements 'a', 'b', 'c' and print it?\n",
        "my_set=(\"a\",\"b\",\"c\")\n",
        "print(my_set)\n",
        "('a', 'b', 'c')\n",
        "\n",
        "\n",
        "#17)Write a code to clear all elements from the set {1, 2, 3, 4, 5}?\n",
        "s={1,2,3,4,5}\n",
        "s.clear()\n",
        "print(s)\n",
        "set()\n",
        "\n",
        "\n",
        "#18)Write a code to remove the element 4 from the set {1, 2, 3, 4}?\n",
        "set={1,2,3,4}\n",
        "set.remove(4)\n",
        "print(set)\n",
        "{1, 2, 3}\n",
        "\n",
        "\n",
        "#19)Write a code to find the union of two sets {1, 2, 3} and {3, 4, 5}?\n",
        "set1={1,2,3}\n",
        "set2={3,4,5}\n",
        "print(set1.union(set2))\n",
        "{1, 2, 3, 4, 5}\n",
        "\n",
        "\n",
        "#20)Write a code to find the intersection of two sets {1, 2, 3} and {2, 3, 4}?\n",
        "set1={1,2,3}\n",
        "set2={2,3,4}\n",
        "print(set1.intersection(set2))\n",
        "{2, 3}\n",
        "\n",
        "#21)Write a code to create a dictionary with the keys \"name\", \"age\", and \"city\", and print it?\n",
        "d={\"name\":\"harsh\",\"age\":25,\"city\":\"beawar\"}\n",
        "print(d)\n",
        "{'name': 'harsh', 'age': 25, 'city': 'beawar'}\n",
        "\n",
        "\n",
        "#22)Write a code to add a new key-value pair \"country\": \"USA\" to the dictionary {'name': 'John', 'age': 25}?\n",
        "d={\"name\":\"john\",\"age\":25}\n",
        "d[\"country\"]=\"usa\"\n",
        "print(d)\n",
        "{'name': 'john', 'age': 25, 'country': 'usa'}\n",
        "\n",
        "\n",
        "#23)Write a code to access the value associated with the key \"name\" in the dictionary {'name': 'Alice', 'age': 30}.?\n",
        "d={'name': 'Alice', 'age': 30}\n",
        "print(d[\"name\"])\n",
        "Alice\n",
        "\n",
        "\n",
        "#24) Write a code to remove the key \"age\" from the dictionary {'name': 'Bob', 'age': 22, 'city': 'New York'}?\n",
        "d= {'name': 'Bob', 'age': 22, 'city': 'New York'}\n",
        "del d[\"age\"]\n",
        "print(d)\n",
        "{'name': 'Bob', 'city': 'New York'}\n",
        "\n",
        "\n",
        "#25) Write a code to check if the key \"city\" exists in the dictionary {'name': 'Alice', 'city': 'Paris'}?\n",
        "d={'name': 'Alice', 'city': 'Paris'}\n",
        "print(\"city\" in d)\n",
        "True\n",
        "\n",
        "\n",
        "#26)Write a code to create a list, a tuple, and a dictionary, and print them all?\n",
        "l=[1,2]\n",
        "t=(3,4)\n",
        "d={\"a\":5}\n",
        "print(l,t,d)\n",
        "[1, 2] (3, 4) {'a': 5}\n",
        "\n",
        "\n",
        "#27)Write a code to create a list of 5 random numbers between 1 and 100, sort it in ascending order, and print the  result.(replaced)?\n",
        "l = random.sample(range(1, 101), 5)  \n",
        "l.sort()  \n",
        "print(l)\n",
        "[27, 35, 39, 57, 68]\n",
        "#28) Write a code to create a list with strings and print the element at the third index?\n",
        "l = [\"apple\", \"banana\", \"cherry\", \"date\"]\n",
        "print(l[3])\n",
        "date\n",
        "#29) Write a code to combine two dictionaries into one and print the result?\n",
        "d1 = {\"a\": 1}\n",
        "d2 = {\"b\": 2}\n",
        "d1.update(d2)\n",
        "print(d1)\n",
        "{'a': 1, 'b': 2}\n",
        "#30) write a code to convert list of string to set?\n",
        "string_list=[\"apple\",\"harsh\",\"jay\",\"apple\"]\n",
        "print(set(string_list))\n",
        "{'jay', 'apple', 'harsh'}\n",
        "                        thank you complete!!!"
      ],
      "metadata": {
        "id": "TYG0WJYXUmdB"
      }
    }
  ]
}